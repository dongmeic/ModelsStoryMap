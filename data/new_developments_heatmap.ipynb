{
 "cells": [
  {
   "cell_type": "code",
   "execution_count": 4,
   "id": "authentic-round",
   "metadata": {},
   "outputs": [],
   "source": [
    "import os"
   ]
  },
  {
   "cell_type": "code",
   "execution_count": 4,
   "id": "selected-pipeline",
   "metadata": {},
   "outputs": [],
   "source": [
    "import arcpy"
   ]
  },
  {
   "cell_type": "code",
   "execution_count": 1,
   "id": "unnecessary-joyce",
   "metadata": {},
   "outputs": [],
   "source": [
    "import contextily as ctx\n",
    "import geopandas as gpd\n",
    "import matplotlib.pyplot as plt\n",
    "import mapclassify"
   ]
  },
  {
   "cell_type": "code",
   "execution_count": 2,
   "id": "pleasant-clearing",
   "metadata": {},
   "outputs": [],
   "source": [
    "ExtensionName = 'Spatial'\n",
    "if arcpy.CheckExtension(ExtensionName) == \"Available\":\n",
    "        arcpy.CheckOutExtension(ExtensionName)"
   ]
  },
  {
   "cell_type": "code",
   "execution_count": 3,
   "id": "fantastic-knitting",
   "metadata": {},
   "outputs": [],
   "source": [
    "arcpy.env.workspace = r'T:\\Models\\StoryMap\\UrbanSim\\UrbanSim.gdb'\n",
    "arcpy.env.overwriteOutput = True"
   ]
  },
  {
   "cell_type": "code",
   "execution_count": 2,
   "id": "seasonal-retail",
   "metadata": {},
   "outputs": [],
   "source": [
    "path = r'T:\\Trans Projects\\Model Development\\UrbanSim_LandUse\\Output\\Simulation_47_Final_RTP'"
   ]
  },
  {
   "cell_type": "code",
   "execution_count": 5,
   "id": "noted-communications",
   "metadata": {},
   "outputs": [],
   "source": [
    "newDev = gpd.read_file(os.path.join(path, 'new_developments.shp'))"
   ]
  },
  {
   "cell_type": "code",
   "execution_count": null,
   "id": "immediate-concept",
   "metadata": {},
   "outputs": [],
   "source": []
  }
 ],
 "metadata": {
  "kernelspec": {
   "display_name": "Python 3",
   "language": "python",
   "name": "python3"
  },
  "language_info": {
   "codemirror_mode": {
    "name": "ipython",
    "version": 3
   },
   "file_extension": ".py",
   "mimetype": "text/x-python",
   "name": "python",
   "nbconvert_exporter": "python",
   "pygments_lexer": "ipython3",
   "version": "3.8.8"
  }
 },
 "nbformat": 4,
 "nbformat_minor": 5
}
