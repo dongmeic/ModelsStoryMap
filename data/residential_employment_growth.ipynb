{
 "cells": [
  {
   "cell_type": "code",
   "execution_count": 1,
   "id": "heated-private",
   "metadata": {},
   "outputs": [],
   "source": [
    "import utilities_geopandas as ugp"
   ]
  },
  {
   "cell_type": "code",
   "execution_count": 2,
   "id": "british-worth",
   "metadata": {},
   "outputs": [],
   "source": [
    "import geopandas as gpd\n",
    "import os"
   ]
  },
  {
   "cell_type": "code",
   "execution_count": 3,
   "id": "searching-explanation",
   "metadata": {},
   "outputs": [],
   "source": [
    "# source: https://github.com/dongmeic/RTP/blob/main/analysis/process_parcel_data.ipynb\n",
    "path = r'T:\\Trans Projects\\Model Development\\UrbanSim_LandUse\\Output\\Simulation_47_Final_RTP'\n",
    "shp = 'parcel_fabric.shp'\n",
    "parcel_data = gpd.read_file(os.path.join(path, shp))"
   ]
  },
  {
   "cell_type": "code",
   "execution_count": 4,
   "id": "hawaiian-reflection",
   "metadata": {},
   "outputs": [
    {
     "data": {
      "text/plain": [
       "Index(['btype', 'nrsqft', 'rsqft', 'du', 'yrbuilt', 'lpid', 'pundev',\n",
       "       'dev_land', 'developed', 'obtype', 'orsqft', 'onrsqft', 'odu', 'zid',\n",
       "       'rezoned', 'city', 'annexed', 'ozid', 'geometry'],\n",
       "      dtype='object')"
      ]
     },
     "execution_count": 4,
     "metadata": {},
     "output_type": "execute_result"
    }
   ],
   "source": [
    "parcel_data.columns"
   ]
  },
  {
   "cell_type": "code",
   "execution_count": 5,
   "id": "enhanced-flooring",
   "metadata": {},
   "outputs": [],
   "source": [
    "parcel_data['AreaPerJob'] = parcel_data['btype'].apply(lambda x: ugp.area_per_job(x)[0])"
   ]
  },
  {
   "cell_type": "code",
   "execution_count": 6,
   "id": "saving-florist",
   "metadata": {},
   "outputs": [],
   "source": [
    "parcel_data['isNonRes'] = parcel_data['btype'].apply(lambda x: ugp.area_per_job(x)[1])"
   ]
  },
  {
   "cell_type": "code",
   "execution_count": 7,
   "id": "accepted-secretariat",
   "metadata": {},
   "outputs": [],
   "source": [
    "parcel_data['jobs'] = parcel_data.apply(lambda row: ugp.compute_jobs(row['isNonRes'],\n",
    "                                                                     row['nrsqft'], row['AreaPerJob']), axis=1)\n",
    "parcel_data['ojobs'] = parcel_data.apply(lambda row: ugp.compute_jobs(row['isNonRes'], \n",
    "                                                                      row['onrsqft'], row['AreaPerJob']), axis=1)"
   ]
  },
  {
   "cell_type": "code",
   "execution_count": 8,
   "id": "dimensional-madison",
   "metadata": {},
   "outputs": [],
   "source": [
    "parcel_data['ndu'] = parcel_data['du'] - parcel_data['odu']\n",
    "parcel_data['nnrsqft'] = parcel_data['nrsqft'] - parcel_data['onrsqft']"
   ]
  },
  {
   "cell_type": "code",
   "execution_count": 9,
   "id": "excited-orbit",
   "metadata": {},
   "outputs": [],
   "source": [
    "parcel_data['njobs'] = parcel_data.apply(lambda row: ugp.compute_jobs(row['isNonRes'], \n",
    "                                                                      row['nnrsqft'], row['AreaPerJob']), axis=1)"
   ]
  },
  {
   "cell_type": "code",
   "execution_count": 10,
   "id": "working-louisiana",
   "metadata": {},
   "outputs": [],
   "source": [
    "parcel_data['hh'] = parcel_data['du'].apply(lambda x: x*0.965)\n",
    "parcel_data['ohh'] = parcel_data['odu'].apply(lambda x: x*0.965)\n",
    "parcel_data['nhh'] = parcel_data['ndu'].apply(lambda x: x*0.965)"
   ]
  },
  {
   "cell_type": "code",
   "execution_count": 11,
   "id": "worst-planet",
   "metadata": {},
   "outputs": [],
   "source": [
    "parcel_data = parcel_data.to_crs(epsg=3857)"
   ]
  },
  {
   "cell_type": "code",
   "execution_count": 12,
   "id": "alien-violin",
   "metadata": {},
   "outputs": [],
   "source": [
    "parcel_data.to_file(os.path.join(path, 'output', 'parcel_data.shp'))"
   ]
  },
  {
   "cell_type": "code",
   "execution_count": 13,
   "id": "stainless-third",
   "metadata": {},
   "outputs": [
    {
     "data": {
      "text/plain": [
       "count    3924.000000\n",
       "mean       23.833784\n",
       "std       169.225725\n",
       "min      -834.036279\n",
       "25%         0.000000\n",
       "50%         0.000000\n",
       "75%         4.779313\n",
       "max      6069.996603\n",
       "Name: njobs, dtype: float64"
      ]
     },
     "execution_count": 13,
     "metadata": {},
     "output_type": "execute_result"
    }
   ],
   "source": [
    "parcel_data.njobs.describe()"
   ]
  },
  {
   "cell_type": "code",
   "execution_count": null,
   "id": "independent-providence",
   "metadata": {},
   "outputs": [],
   "source": []
  }
 ],
 "metadata": {
  "kernelspec": {
   "display_name": "Python 3",
   "language": "python",
   "name": "python3"
  },
  "language_info": {
   "codemirror_mode": {
    "name": "ipython",
    "version": 3
   },
   "file_extension": ".py",
   "mimetype": "text/x-python",
   "name": "python",
   "nbconvert_exporter": "python",
   "pygments_lexer": "ipython3",
   "version": "3.8.8"
  }
 },
 "nbformat": 4,
 "nbformat_minor": 5
}
