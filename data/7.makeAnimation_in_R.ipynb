{
 "cells": [
  {
   "cell_type": "code",
   "execution_count": 7,
   "id": "environmental-reception",
   "metadata": {
    "scrolled": true
   },
   "outputs": [
    {
     "name": "stderr",
     "output_type": "stream",
     "text": [
      "Warning message:\n",
      "\"package 'stringr' was built under R version 3.6.3\""
     ]
    }
   ],
   "source": [
    "library(animation)\n",
    "library(stringr)"
   ]
  },
  {
   "cell_type": "code",
   "execution_count": 8,
   "id": "directed-editor",
   "metadata": {},
   "outputs": [],
   "source": [
    "setwd(\"T:/Models/StoryMap/UrbanSim\")"
   ]
  },
  {
   "cell_type": "code",
   "execution_count": 19,
   "id": "attractive-shopping",
   "metadata": {},
   "outputs": [],
   "source": [
    "createAnimation <- function(field = \"hh\", TAZ=FALSE){\n",
    "    files = list.files(path = \".\", pattern = field, full.names = T)\n",
    "    if(TAZ){\n",
    "        keyword = \"new_\"\n",
    "    }else{\n",
    "        keyword = \"heatmap_\"      \n",
    "    }\n",
    "    files = grep(keyword, files, value =TRUE) \n",
    "    if(str_detect(files[1], \"gif\")){\n",
    "        im.convert(files[-1],output=paste0(keyword, field, \".gif\"))\n",
    "    }else{\n",
    "        im.convert(files,output=paste0(keyword, field, \".gif\"))\n",
    "    }\n",
    "}"
   ]
  },
  {
   "cell_type": "code",
   "execution_count": 22,
   "id": "written-engine",
   "metadata": {
    "scrolled": true
   },
   "outputs": [
    {
     "name": "stderr",
     "output_type": "stream",
     "text": [
      "Output at: new_hh.gif\n"
     ]
    }
   ],
   "source": [
    "createAnimation(field = \"hh\", TAZ=TRUE)"
   ]
  },
  {
   "cell_type": "code",
   "execution_count": null,
   "id": "gorgeous-habitat",
   "metadata": {},
   "outputs": [],
   "source": []
  }
 ],
 "metadata": {
  "kernelspec": {
   "display_name": "R",
   "language": "R",
   "name": "ir"
  },
  "language_info": {
   "codemirror_mode": "r",
   "file_extension": ".r",
   "mimetype": "text/x-r-source",
   "name": "R",
   "pygments_lexer": "r",
   "version": "3.6.1"
  }
 },
 "nbformat": 4,
 "nbformat_minor": 5
}
