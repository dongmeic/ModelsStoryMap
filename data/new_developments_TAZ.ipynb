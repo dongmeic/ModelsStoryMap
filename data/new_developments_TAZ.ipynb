{
 "cells": [
  {
   "cell_type": "code",
   "execution_count": 1,
   "id": "infinite-glossary",
   "metadata": {},
   "outputs": [],
   "source": [
    "import geopandas as gpd"
   ]
  },
  {
   "cell_type": "code",
   "execution_count": 2,
   "id": "cosmetic-capital",
   "metadata": {},
   "outputs": [],
   "source": [
    "import arcpy"
   ]
  },
  {
   "cell_type": "code",
   "execution_count": 3,
   "id": "refined-directory",
   "metadata": {},
   "outputs": [],
   "source": [
    "import os"
   ]
  },
  {
   "cell_type": "code",
   "execution_count": 4,
   "id": "equipped-rotation",
   "metadata": {},
   "outputs": [],
   "source": [
    "path = r'T:\\Trans Projects\\Model Development\\UrbanSim_LandUse\\Output\\Simulation_47_Final_RTP'"
   ]
  },
  {
   "cell_type": "code",
   "execution_count": 5,
   "id": "aerial-picture",
   "metadata": {},
   "outputs": [],
   "source": [
    "arcpy.env.workspace = r'T:\\Models\\StoryMap\\UrbanSim\\UrbanSim.gdb'"
   ]
  },
  {
   "cell_type": "code",
   "execution_count": 6,
   "id": "organizational-technology",
   "metadata": {},
   "outputs": [],
   "source": [
    "arcpy.env.overwriteOutput = True"
   ]
  },
  {
   "cell_type": "code",
   "execution_count": 7,
   "id": "exposed-aging",
   "metadata": {},
   "outputs": [],
   "source": [
    "newDev = gpd.read_file(os.path.join(path, 'new_developments.shp'))"
   ]
  },
  {
   "cell_type": "code",
   "execution_count": 8,
   "id": "missing-sussex",
   "metadata": {},
   "outputs": [
    {
     "data": {
      "text/html": [
       "<div>\n",
       "<style scoped>\n",
       "    .dataframe tbody tr th:only-of-type {\n",
       "        vertical-align: middle;\n",
       "    }\n",
       "\n",
       "    .dataframe tbody tr th {\n",
       "        vertical-align: top;\n",
       "    }\n",
       "\n",
       "    .dataframe thead th {\n",
       "        text-align: right;\n",
       "    }\n",
       "</style>\n",
       "<table border=\"1\" class=\"dataframe\">\n",
       "  <thead>\n",
       "    <tr style=\"text-align: right;\">\n",
       "      <th></th>\n",
       "      <th>btype</th>\n",
       "      <th>nsqft</th>\n",
       "      <th>rsqft</th>\n",
       "      <th>du</th>\n",
       "      <th>yrbuilt</th>\n",
       "      <th>lpid</th>\n",
       "      <th>pundev</th>\n",
       "      <th>dev_land</th>\n",
       "      <th>orsqft</th>\n",
       "      <th>onrsqft</th>\n",
       "      <th>odu</th>\n",
       "      <th>dua</th>\n",
       "      <th>nrfar</th>\n",
       "      <th>ndu</th>\n",
       "      <th>nnsqft</th>\n",
       "      <th>geometry</th>\n",
       "    </tr>\n",
       "  </thead>\n",
       "  <tbody>\n",
       "    <tr>\n",
       "      <th>0</th>\n",
       "      <td>1110</td>\n",
       "      <td>0.0</td>\n",
       "      <td>2936.0</td>\n",
       "      <td>1</td>\n",
       "      <td>2031</td>\n",
       "      <td>24636</td>\n",
       "      <td>14.0</td>\n",
       "      <td>5.328463e+06</td>\n",
       "      <td>0.0</td>\n",
       "      <td>0.0</td>\n",
       "      <td>0.0</td>\n",
       "      <td>0.008175</td>\n",
       "      <td>0.0</td>\n",
       "      <td>1</td>\n",
       "      <td>0.0</td>\n",
       "      <td>POLYGON ((4253853.761 848765.083, 4253810.813 ...</td>\n",
       "    </tr>\n",
       "    <tr>\n",
       "      <th>1</th>\n",
       "      <td>1110</td>\n",
       "      <td>0.0</td>\n",
       "      <td>38182.0</td>\n",
       "      <td>13</td>\n",
       "      <td>2032</td>\n",
       "      <td>24708</td>\n",
       "      <td>0.0</td>\n",
       "      <td>2.143960e+06</td>\n",
       "      <td>2041.0</td>\n",
       "      <td>0.0</td>\n",
       "      <td>1.0</td>\n",
       "      <td>0.264128</td>\n",
       "      <td>0.0</td>\n",
       "      <td>12</td>\n",
       "      <td>0.0</td>\n",
       "      <td>POLYGON ((4250112.863 849539.515, 4250261.656 ...</td>\n",
       "    </tr>\n",
       "    <tr>\n",
       "      <th>2</th>\n",
       "      <td>1110</td>\n",
       "      <td>0.0</td>\n",
       "      <td>24384.0</td>\n",
       "      <td>8</td>\n",
       "      <td>2034</td>\n",
       "      <td>24796</td>\n",
       "      <td>0.0</td>\n",
       "      <td>1.369197e+06</td>\n",
       "      <td>3498.0</td>\n",
       "      <td>0.0</td>\n",
       "      <td>1.0</td>\n",
       "      <td>0.254514</td>\n",
       "      <td>0.0</td>\n",
       "      <td>7</td>\n",
       "      <td>0.0</td>\n",
       "      <td>POLYGON ((4248043.221 850118.769, 4248037.169 ...</td>\n",
       "    </tr>\n",
       "    <tr>\n",
       "      <th>3</th>\n",
       "      <td>1110</td>\n",
       "      <td>0.0</td>\n",
       "      <td>11762.0</td>\n",
       "      <td>4</td>\n",
       "      <td>2037</td>\n",
       "      <td>24890</td>\n",
       "      <td>9.0</td>\n",
       "      <td>2.134994e+06</td>\n",
       "      <td>2150.0</td>\n",
       "      <td>0.0</td>\n",
       "      <td>1.0</td>\n",
       "      <td>0.081611</td>\n",
       "      <td>0.0</td>\n",
       "      <td>3</td>\n",
       "      <td>0.0</td>\n",
       "      <td>POLYGON ((4257174.792 850971.558, 4257157.732 ...</td>\n",
       "    </tr>\n",
       "    <tr>\n",
       "      <th>4</th>\n",
       "      <td>1110</td>\n",
       "      <td>0.0</td>\n",
       "      <td>4829.0</td>\n",
       "      <td>2</td>\n",
       "      <td>2029</td>\n",
       "      <td>25049</td>\n",
       "      <td>0.0</td>\n",
       "      <td>8.765263e+05</td>\n",
       "      <td>0.0</td>\n",
       "      <td>0.0</td>\n",
       "      <td>0.0</td>\n",
       "      <td>0.099392</td>\n",
       "      <td>0.0</td>\n",
       "      <td>2</td>\n",
       "      <td>0.0</td>\n",
       "      <td>POLYGON ((4253304.256 852057.125, 4254563.690 ...</td>\n",
       "    </tr>\n",
       "  </tbody>\n",
       "</table>\n",
       "</div>"
      ],
      "text/plain": [
       "   btype  nsqft    rsqft  du  yrbuilt   lpid  pundev      dev_land  orsqft  \\\n",
       "0   1110    0.0   2936.0   1     2031  24636    14.0  5.328463e+06     0.0   \n",
       "1   1110    0.0  38182.0  13     2032  24708     0.0  2.143960e+06  2041.0   \n",
       "2   1110    0.0  24384.0   8     2034  24796     0.0  1.369197e+06  3498.0   \n",
       "3   1110    0.0  11762.0   4     2037  24890     9.0  2.134994e+06  2150.0   \n",
       "4   1110    0.0   4829.0   2     2029  25049     0.0  8.765263e+05     0.0   \n",
       "\n",
       "   onrsqft  odu       dua  nrfar  ndu  nnsqft  \\\n",
       "0      0.0  0.0  0.008175    0.0    1     0.0   \n",
       "1      0.0  1.0  0.264128    0.0   12     0.0   \n",
       "2      0.0  1.0  0.254514    0.0    7     0.0   \n",
       "3      0.0  1.0  0.081611    0.0    3     0.0   \n",
       "4      0.0  0.0  0.099392    0.0    2     0.0   \n",
       "\n",
       "                                            geometry  \n",
       "0  POLYGON ((4253853.761 848765.083, 4253810.813 ...  \n",
       "1  POLYGON ((4250112.863 849539.515, 4250261.656 ...  \n",
       "2  POLYGON ((4248043.221 850118.769, 4248037.169 ...  \n",
       "3  POLYGON ((4257174.792 850971.558, 4257157.732 ...  \n",
       "4  POLYGON ((4253304.256 852057.125, 4254563.690 ...  "
      ]
     },
     "execution_count": 8,
     "metadata": {},
     "output_type": "execute_result"
    }
   ],
   "source": [
    "newDev.head()"
   ]
  },
  {
   "cell_type": "code",
   "execution_count": null,
   "id": "loving-burner",
   "metadata": {},
   "outputs": [],
   "source": []
  }
 ],
 "metadata": {
  "kernelspec": {
   "display_name": "Python 3",
   "language": "python",
   "name": "python3"
  },
  "language_info": {
   "codemirror_mode": {
    "name": "ipython",
    "version": 3
   },
   "file_extension": ".py",
   "mimetype": "text/x-python",
   "name": "python",
   "nbconvert_exporter": "python",
   "pygments_lexer": "ipython3",
   "version": "3.7.9"
  }
 },
 "nbformat": 4,
 "nbformat_minor": 5
}
