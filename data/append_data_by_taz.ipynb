{
 "cells": [
  {
   "cell_type": "code",
   "execution_count": 1,
   "metadata": {},
   "outputs": [],
   "source": [
    "import os, arcpy, glob"
   ]
  },
  {
   "cell_type": "code",
   "execution_count": 2,
   "metadata": {},
   "outputs": [],
   "source": [
    "path = r'T:\\Trans Projects\\Model Development\\UrbanSim_LandUse\\Output\\Simulation_47_Final_RTP'"
   ]
  },
  {
   "cell_type": "code",
   "execution_count": 5,
   "metadata": {},
   "outputs": [],
   "source": [
    "shpPath = os.path.join(path, 'output', 'newDev_taz_' + '*.shp')"
   ]
  },
  {
   "cell_type": "code",
   "execution_count": 6,
   "metadata": {},
   "outputs": [],
   "source": [
    "filenames = glob.glob(shpPath)"
   ]
  },
  {
   "cell_type": "code",
   "execution_count": 12,
   "metadata": {},
   "outputs": [
    {
     "data": {
      "text/html": [
       "<h2>Output</h2>T:\\Trans Projects\\Model Development\\UrbanSim_LandUse\\Output\\Simulation_47_Final_RTP\\output\\newDev_taz_all.shp<h2>Messages</h2>Start Time: Saturday, March 27, 2021 11:43:18 AM<br/>Succeeded at Saturday, March 27, 2021 11:43:19 AM (Elapsed Time: 0.58 seconds)<br/><style>.rendered_html td, .rendered_html th {text-align: left;}.rendered_html tbody {border: 1px solid black;}</style>"
      ],
      "text/plain": [
       "<Result 'T:\\\\Trans Projects\\\\Model Development\\\\UrbanSim_LandUse\\\\Output\\\\Simulation_47_Final_RTP\\\\output\\\\newDev_taz_all.shp'>"
      ]
     },
     "execution_count": 12,
     "metadata": {},
     "output_type": "execute_result"
    }
   ],
   "source": [
    "arcpy.management.CopyFeatures(filenames[0], os.path.join(path, 'output', 'newDev_taz_all.shp'))"
   ]
  },
  {
   "cell_type": "code",
   "execution_count": 13,
   "metadata": {},
   "outputs": [
    {
     "data": {
      "text/html": [
       "<h2>Output</h2>T:\\Trans Projects\\Model Development\\UrbanSim_LandUse\\Output\\Simulation_47_Final_RTP\\output\\newDev_taz_all.shp<h2>Messages</h2>Start Time: Saturday, March 27, 2021 11:44:02 AM<br/>Succeeded at Saturday, March 27, 2021 11:44:06 AM (Elapsed Time: 3.74 seconds)<br/><style>.rendered_html td, .rendered_html th {text-align: left;}.rendered_html tbody {border: 1px solid black;}</style>"
      ],
      "text/plain": [
       "<Result 'T:\\\\Trans Projects\\\\Model Development\\\\UrbanSim_LandUse\\\\Output\\\\Simulation_47_Final_RTP\\\\output\\\\newDev_taz_all.shp'>"
      ]
     },
     "execution_count": 13,
     "metadata": {},
     "output_type": "execute_result"
    }
   ],
   "source": [
    "arcpy.management.Append(filenames[1:], os.path.join(path, 'output', 'newDev_taz_all.shp'))"
   ]
  },
  {
   "cell_type": "code",
   "execution_count": 3,
   "metadata": {},
   "outputs": [],
   "source": [
    "# append annual TAZ data\n",
    "shpPath = os.path.join(path, 'output', 'parcel_data_taz_' + '*.shp')"
   ]
  },
  {
   "cell_type": "code",
   "execution_count": 4,
   "metadata": {},
   "outputs": [],
   "source": [
    "filenames = glob.glob(shpPath)"
   ]
  },
  {
   "cell_type": "code",
   "execution_count": 5,
   "metadata": {},
   "outputs": [
    {
     "data": {
      "text/plain": [
       "['T:\\\\Trans Projects\\\\Model Development\\\\UrbanSim_LandUse\\\\Output\\\\Simulation_47_Final_RTP\\\\output\\\\parcel_data_taz_2021.shp',\n",
       " 'T:\\\\Trans Projects\\\\Model Development\\\\UrbanSim_LandUse\\\\Output\\\\Simulation_47_Final_RTP\\\\output\\\\parcel_data_taz_2022.shp',\n",
       " 'T:\\\\Trans Projects\\\\Model Development\\\\UrbanSim_LandUse\\\\Output\\\\Simulation_47_Final_RTP\\\\output\\\\parcel_data_taz_2023.shp',\n",
       " 'T:\\\\Trans Projects\\\\Model Development\\\\UrbanSim_LandUse\\\\Output\\\\Simulation_47_Final_RTP\\\\output\\\\parcel_data_taz_2024.shp',\n",
       " 'T:\\\\Trans Projects\\\\Model Development\\\\UrbanSim_LandUse\\\\Output\\\\Simulation_47_Final_RTP\\\\output\\\\parcel_data_taz_2025.shp',\n",
       " 'T:\\\\Trans Projects\\\\Model Development\\\\UrbanSim_LandUse\\\\Output\\\\Simulation_47_Final_RTP\\\\output\\\\parcel_data_taz_2026.shp',\n",
       " 'T:\\\\Trans Projects\\\\Model Development\\\\UrbanSim_LandUse\\\\Output\\\\Simulation_47_Final_RTP\\\\output\\\\parcel_data_taz_2027.shp',\n",
       " 'T:\\\\Trans Projects\\\\Model Development\\\\UrbanSim_LandUse\\\\Output\\\\Simulation_47_Final_RTP\\\\output\\\\parcel_data_taz_2028.shp',\n",
       " 'T:\\\\Trans Projects\\\\Model Development\\\\UrbanSim_LandUse\\\\Output\\\\Simulation_47_Final_RTP\\\\output\\\\parcel_data_taz_2029.shp',\n",
       " 'T:\\\\Trans Projects\\\\Model Development\\\\UrbanSim_LandUse\\\\Output\\\\Simulation_47_Final_RTP\\\\output\\\\parcel_data_taz_2030.shp',\n",
       " 'T:\\\\Trans Projects\\\\Model Development\\\\UrbanSim_LandUse\\\\Output\\\\Simulation_47_Final_RTP\\\\output\\\\parcel_data_taz_2031.shp',\n",
       " 'T:\\\\Trans Projects\\\\Model Development\\\\UrbanSim_LandUse\\\\Output\\\\Simulation_47_Final_RTP\\\\output\\\\parcel_data_taz_2032.shp',\n",
       " 'T:\\\\Trans Projects\\\\Model Development\\\\UrbanSim_LandUse\\\\Output\\\\Simulation_47_Final_RTP\\\\output\\\\parcel_data_taz_2033.shp',\n",
       " 'T:\\\\Trans Projects\\\\Model Development\\\\UrbanSim_LandUse\\\\Output\\\\Simulation_47_Final_RTP\\\\output\\\\parcel_data_taz_2034.shp',\n",
       " 'T:\\\\Trans Projects\\\\Model Development\\\\UrbanSim_LandUse\\\\Output\\\\Simulation_47_Final_RTP\\\\output\\\\parcel_data_taz_2035.shp',\n",
       " 'T:\\\\Trans Projects\\\\Model Development\\\\UrbanSim_LandUse\\\\Output\\\\Simulation_47_Final_RTP\\\\output\\\\parcel_data_taz_2036.shp',\n",
       " 'T:\\\\Trans Projects\\\\Model Development\\\\UrbanSim_LandUse\\\\Output\\\\Simulation_47_Final_RTP\\\\output\\\\parcel_data_taz_2037.shp',\n",
       " 'T:\\\\Trans Projects\\\\Model Development\\\\UrbanSim_LandUse\\\\Output\\\\Simulation_47_Final_RTP\\\\output\\\\parcel_data_taz_2038.shp',\n",
       " 'T:\\\\Trans Projects\\\\Model Development\\\\UrbanSim_LandUse\\\\Output\\\\Simulation_47_Final_RTP\\\\output\\\\parcel_data_taz_2039.shp',\n",
       " 'T:\\\\Trans Projects\\\\Model Development\\\\UrbanSim_LandUse\\\\Output\\\\Simulation_47_Final_RTP\\\\output\\\\parcel_data_taz_2040.shp',\n",
       " 'T:\\\\Trans Projects\\\\Model Development\\\\UrbanSim_LandUse\\\\Output\\\\Simulation_47_Final_RTP\\\\output\\\\parcel_data_taz_2041.shp',\n",
       " 'T:\\\\Trans Projects\\\\Model Development\\\\UrbanSim_LandUse\\\\Output\\\\Simulation_47_Final_RTP\\\\output\\\\parcel_data_taz_2042.shp',\n",
       " 'T:\\\\Trans Projects\\\\Model Development\\\\UrbanSim_LandUse\\\\Output\\\\Simulation_47_Final_RTP\\\\output\\\\parcel_data_taz_2043.shp',\n",
       " 'T:\\\\Trans Projects\\\\Model Development\\\\UrbanSim_LandUse\\\\Output\\\\Simulation_47_Final_RTP\\\\output\\\\parcel_data_taz_2044.shp',\n",
       " 'T:\\\\Trans Projects\\\\Model Development\\\\UrbanSim_LandUse\\\\Output\\\\Simulation_47_Final_RTP\\\\output\\\\parcel_data_taz_2045.shp']"
      ]
     },
     "execution_count": 5,
     "metadata": {},
     "output_type": "execute_result"
    }
   ],
   "source": [
    "filenames"
   ]
  },
  {
   "cell_type": "code",
   "execution_count": 6,
   "metadata": {},
   "outputs": [],
   "source": [
    "outFeature = 'parcel_data_taz_all.shp'\n",
    "filePath = os.path.join(path, 'output', outFeature)\n",
    "if os.path.exists(filePath):\n",
    "    os.remove(filePath)"
   ]
  },
  {
   "cell_type": "code",
   "execution_count": 7,
   "metadata": {
    "scrolled": true
   },
   "outputs": [
    {
     "data": {
      "text/html": [
       "<h2>Output</h2>T:\\Trans Projects\\Model Development\\UrbanSim_LandUse\\Output\\Simulation_47_Final_RTP\\output\\parcel_data_taz_all.shp<h2>Messages</h2>Start Time: Saturday, April 17, 2021 9:38:43 AM<br/>Succeeded at Saturday, April 17, 2021 9:38:44 AM (Elapsed Time: 0.69 seconds)<br/><style>.rendered_html td, .rendered_html th {text-align: left;}.rendered_html tbody {border: 1px solid black;}</style>"
      ],
      "text/plain": [
       "<Result 'T:\\\\Trans Projects\\\\Model Development\\\\UrbanSim_LandUse\\\\Output\\\\Simulation_47_Final_RTP\\\\output\\\\parcel_data_taz_all.shp'>"
      ]
     },
     "execution_count": 7,
     "metadata": {},
     "output_type": "execute_result"
    }
   ],
   "source": [
    "arcpy.management.CopyFeatures(filenames[0], filePath)"
   ]
  },
  {
   "cell_type": "code",
   "execution_count": 8,
   "metadata": {},
   "outputs": [
    {
     "data": {
      "text/html": [
       "<h2>Output</h2>T:\\Trans Projects\\Model Development\\UrbanSim_LandUse\\Output\\Simulation_47_Final_RTP\\output\\parcel_data_taz_all.shp<h2>Messages</h2>Start Time: Saturday, April 17, 2021 9:38:49 AM<br/>Succeeded at Saturday, April 17, 2021 9:38:53 AM (Elapsed Time: 3.92 seconds)<br/><style>.rendered_html td, .rendered_html th {text-align: left;}.rendered_html tbody {border: 1px solid black;}</style>"
      ],
      "text/plain": [
       "<Result 'T:\\\\Trans Projects\\\\Model Development\\\\UrbanSim_LandUse\\\\Output\\\\Simulation_47_Final_RTP\\\\output\\\\parcel_data_taz_all.shp'>"
      ]
     },
     "execution_count": 8,
     "metadata": {},
     "output_type": "execute_result"
    }
   ],
   "source": [
    "arcpy.management.Append(filenames[1:], os.path.join(path, 'output', 'parcel_data_taz_all.shp'))"
   ]
  },
  {
   "cell_type": "code",
   "execution_count": 7,
   "metadata": {},
   "outputs": [],
   "source": [
    "import os\n",
    "import geopandas as gpd"
   ]
  },
  {
   "cell_type": "code",
   "execution_count": 8,
   "metadata": {},
   "outputs": [],
   "source": [
    "taz_parcel = gpd.read_file(os.path.join(path, 'output', 'parcel_data_taz_all.shp'))"
   ]
  },
  {
   "cell_type": "code",
   "execution_count": 9,
   "metadata": {},
   "outputs": [
    {
     "data": {
      "text/plain": [
       "<AxesSubplot:ylabel='Frequency'>"
      ]
     },
     "execution_count": 9,
     "metadata": {},
     "output_type": "execute_result"
    },
    {
     "data": {
      "image/png": "[encoded data removed]",
      "text/plain": [
       "<Figure size 432x288 with 1 Axes>"
      ]
     },
     "metadata": {
      "needs_background": "light"
     },
     "output_type": "display_data"
    }
   ],
   "source": [
    "taz_parcel['njobs'].plot.hist(grid=True, bins=100, rwidth=1.2, color='#607c8e')"
   ]
  },
  {
   "cell_type": "code",
   "execution_count": 10,
   "metadata": {},
   "outputs": [
    {
     "data": {
      "text/plain": [
       "count    1706.000000\n",
       "mean       42.244664\n",
       "std       184.916073\n",
       "min      -282.758207\n",
       "25%         0.000000\n",
       "50%         0.000000\n",
       "75%        25.723317\n",
       "max      3834.369732\n",
       "Name: njobs, dtype: float64"
      ]
     },
     "execution_count": 10,
     "metadata": {},
     "output_type": "execute_result"
    }
   ],
   "source": [
    "taz_parcel['njobs'].describe()"
   ]
  },
  {
   "cell_type": "code",
   "execution_count": 11,
   "metadata": {},
   "outputs": [
    {
     "data": {
      "text/plain": [
       "<AxesSubplot:ylabel='Frequency'>"
      ]
     },
     "execution_count": 11,
     "metadata": {},
     "output_type": "execute_result"
    },
    {
     "data": {
      "image/png": "[encoded data removed]",
      "text/plain": [
       "<Figure size 432x288 with 1 Axes>"
      ]
     },
     "metadata": {
      "needs_background": "light"
     },
     "output_type": "display_data"
    }
   ],
   "source": [
    "taz_parcel['nhh'].plot.hist(grid=True, bins=100, rwidth=1.2, color='#607c8e')"
   ]
  },
  {
   "cell_type": "code",
   "execution_count": 12,
   "metadata": {},
   "outputs": [
    {
     "data": {
      "text/plain": [
       "count    1706.000000\n",
       "mean        7.981331\n",
       "std        22.228882\n",
       "min      -429.425000\n",
       "25%         0.000000\n",
       "50%         2.895000\n",
       "75%         8.685000\n",
       "max       401.440000\n",
       "Name: nhh, dtype: float64"
      ]
     },
     "execution_count": 12,
     "metadata": {},
     "output_type": "execute_result"
    }
   ],
   "source": [
    "taz_parcel['nhh'].describe()"
   ]
  },
  {
   "cell_type": "code",
   "execution_count": null,
   "metadata": {},
   "outputs": [],
   "source": []
  }
 ],
 "metadata": {
  "kernelspec": {
   "display_name": "Python 3",
   "language": "python",
   "name": "python3"
  },
  "language_info": {
   "codemirror_mode": {
    "name": "ipython",
    "version": 3
   },
   "file_extension": ".py",
   "mimetype": "text/x-python",
   "name": "python",
   "nbconvert_exporter": "python",
   "pygments_lexer": "ipython3",
   "version": "3.7.9"
  }
 },
 "nbformat": 4,
 "nbformat_minor": 4
}
