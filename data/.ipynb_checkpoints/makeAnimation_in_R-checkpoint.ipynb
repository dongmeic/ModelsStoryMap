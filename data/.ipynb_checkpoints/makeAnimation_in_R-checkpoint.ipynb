{
 "cells": [
  {
   "cell_type": "code",
   "execution_count": 1,
   "id": "threaded-organization",
   "metadata": {
    "scrolled": true
   },
   "outputs": [
    {
     "name": "stderr",
     "output_type": "stream",
     "text": [
      "Warning message:\n",
      "\"package 'animation' was built under R version 3.6.3\""
     ]
    }
   ],
   "source": [
    "library(animation)"
   ]
  },
  {
   "cell_type": "code",
   "execution_count": 2,
   "id": "activated-suite",
   "metadata": {},
   "outputs": [],
   "source": [
    "setwd(\"T:/Models/StoryMap/UrbanSim\")"
   ]
  },
  {
   "cell_type": "code",
   "execution_count": null,
   "id": "circular-sharing",
   "metadata": {},
   "outputs": [],
   "source": [
    "field = \"hh\"\n",
    "im.convert(paste0(\"heatmap_\", field, \"_*.png\"),output=paste0(\"heatmap_\", field, \".gif\"))"
   ]
  },
  {
   "cell_type": "code",
   "execution_count": null,
   "id": "subsequent-signal",
   "metadata": {},
   "outputs": [],
   "source": [
    "field = \"jobs\"\n",
    "im.convert(paste0(\"heatmap_\", field, \"_*.png\"),output=paste0(\"heatmap_\", field, \".gif\"))"
   ]
  }
 ],
 "metadata": {
  "kernelspec": {
   "display_name": "R",
   "language": "R",
   "name": "ir"
  },
  "language_info": {
   "codemirror_mode": "r",
   "file_extension": ".r",
   "mimetype": "text/x-r-source",
   "name": "R",
   "pygments_lexer": "r",
   "version": "3.6.1"
  }
 },
 "nbformat": 4,
 "nbformat_minor": 5
}
