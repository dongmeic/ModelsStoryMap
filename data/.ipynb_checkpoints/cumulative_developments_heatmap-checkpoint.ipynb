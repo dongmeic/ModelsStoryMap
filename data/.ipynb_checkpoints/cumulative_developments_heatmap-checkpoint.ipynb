{
 "cells": [
  {
   "cell_type": "code",
   "execution_count": 1,
   "metadata": {},
   "outputs": [],
   "source": [
    "import utilities_geopandas as ugp"
   ]
  },
  {
   "cell_type": "code",
   "execution_count": 2,
   "metadata": {},
   "outputs": [
    {
     "name": "stdout",
     "output_type": "stream",
     "text": [
      "Exported cumulative data by 2021...\n",
      "Exported cumulative data by 2022...\n",
      "Exported cumulative data by 2023...\n",
      "Exported cumulative data by 2024...\n",
      "Exported cumulative data by 2025...\n",
      "Exported cumulative data by 2026...\n",
      "Exported cumulative data by 2027...\n",
      "Exported cumulative data by 2028...\n",
      "Exported cumulative data by 2029...\n",
      "Exported cumulative data by 2030...\n",
      "Exported cumulative data by 2031...\n",
      "Exported cumulative data by 2032...\n",
      "Exported cumulative data by 2033...\n",
      "Exported cumulative data by 2034...\n",
      "Exported cumulative data by 2035...\n",
      "Exported cumulative data by 2036...\n",
      "Exported cumulative data by 2037...\n",
      "Exported cumulative data by 2038...\n",
      "Exported cumulative data by 2039...\n",
      "Exported cumulative data by 2040...\n",
      "Exported cumulative data by 2041...\n",
      "Exported cumulative data by 2042...\n",
      "Exported cumulative data by 2043...\n",
      "Exported cumulative data by 2044...\n",
      "Exported cumulative data by 2045...\n"
     ]
    }
   ],
   "source": [
    "ugp.exportNewDevData(by = 'cum')"
   ]
  },
  {
   "cell_type": "code",
   "execution_count": 1,
   "metadata": {},
   "outputs": [],
   "source": [
    "import utilities_propy as upp"
   ]
  },
  {
   "cell_type": "code",
   "execution_count": 2,
   "metadata": {},
   "outputs": [
    {
     "name": "stdout",
     "output_type": "stream",
     "text": [
      "Processed spatial join for the new dev data by 2021...\n",
      "Processed spatial join for the new dev data by 2022...\n",
      "Processed spatial join for the new dev data by 2023...\n",
      "Processed spatial join for the new dev data by 2024...\n",
      "Processed spatial join for the new dev data by 2025...\n",
      "Processed spatial join for the new dev data by 2026...\n",
      "Processed spatial join for the new dev data by 2027...\n",
      "Processed spatial join for the new dev data by 2028...\n",
      "Processed spatial join for the new dev data by 2029...\n",
      "Processed spatial join for the new dev data by 2030...\n",
      "Processed spatial join for the new dev data by 2031...\n",
      "Processed spatial join for the new dev data by 2032...\n",
      "Processed spatial join for the new dev data by 2033...\n",
      "Processed spatial join for the new dev data by 2034...\n",
      "Processed spatial join for the new dev data by 2035...\n",
      "Processed spatial join for the new dev data by 2036...\n",
      "Processed spatial join for the new dev data by 2037...\n",
      "Processed spatial join for the new dev data by 2038...\n",
      "Processed spatial join for the new dev data by 2039...\n",
      "Processed spatial join for the new dev data by 2040...\n",
      "Processed spatial join for the new dev data by 2041...\n",
      "Processed spatial join for the new dev data by 2042...\n",
      "Processed spatial join for the new dev data by 2043...\n",
      "Processed spatial join for the new dev data by 2044...\n",
      "Processed spatial join for the new dev data by 2045...\n"
     ]
    }
   ],
   "source": [
    "for yrbuilt in range(2021, 2046, 1):\n",
    "    upp.spatialJoin(yrbuilt, by = 'cum')"
   ]
  },
  {
   "cell_type": "code",
   "execution_count": 3,
   "metadata": {},
   "outputs": [
    {
     "name": "stdout",
     "output_type": "stream",
     "text": [
      "created Kernel density using the field nnsqft by 2021\n",
      "created Kernel density using the field ndu by 2021\n",
      "created Kernel density using the field nnsqft by 2022\n",
      "created Kernel density using the field ndu by 2022\n",
      "created Kernel density using the field nnsqft by 2023\n",
      "created Kernel density using the field ndu by 2023\n",
      "created Kernel density using the field nnsqft by 2024\n",
      "created Kernel density using the field ndu by 2024\n",
      "created Kernel density using the field nnsqft by 2025\n",
      "created Kernel density using the field ndu by 2025\n",
      "created Kernel density using the field nnsqft by 2026\n",
      "created Kernel density using the field ndu by 2026\n",
      "created Kernel density using the field nnsqft by 2027\n",
      "created Kernel density using the field ndu by 2027\n",
      "created Kernel density using the field nnsqft by 2028\n",
      "created Kernel density using the field ndu by 2028\n",
      "created Kernel density using the field nnsqft by 2029\n",
      "created Kernel density using the field ndu by 2029\n",
      "created Kernel density using the field nnsqft by 2030\n",
      "created Kernel density using the field ndu by 2030\n",
      "created Kernel density using the field nnsqft by 2031\n",
      "created Kernel density using the field ndu by 2031\n",
      "created Kernel density using the field nnsqft by 2032\n",
      "created Kernel density using the field ndu by 2032\n",
      "created Kernel density using the field nnsqft by 2033\n",
      "created Kernel density using the field ndu by 2033\n",
      "created Kernel density using the field nnsqft by 2034\n",
      "created Kernel density using the field ndu by 2034\n",
      "created Kernel density using the field nnsqft by 2035\n",
      "created Kernel density using the field ndu by 2035\n",
      "created Kernel density using the field nnsqft by 2036\n",
      "created Kernel density using the field ndu by 2036\n",
      "created Kernel density using the field nnsqft by 2037\n",
      "created Kernel density using the field ndu by 2037\n",
      "created Kernel density using the field nnsqft by 2038\n",
      "created Kernel density using the field ndu by 2038\n",
      "created Kernel density using the field nnsqft by 2039\n",
      "created Kernel density using the field ndu by 2039\n",
      "created Kernel density using the field nnsqft by 2040\n",
      "created Kernel density using the field ndu by 2040\n",
      "created Kernel density using the field nnsqft by 2041\n",
      "created Kernel density using the field ndu by 2041\n",
      "created Kernel density using the field nnsqft by 2042\n",
      "created Kernel density using the field ndu by 2042\n",
      "created Kernel density using the field nnsqft by 2043\n",
      "created Kernel density using the field ndu by 2043\n",
      "created Kernel density using the field nnsqft by 2044\n",
      "created Kernel density using the field ndu by 2044\n",
      "created Kernel density using the field nnsqft by 2045\n",
      "created Kernel density using the field ndu by 2045\n"
     ]
    }
   ],
   "source": [
    "for yrbuilt in range(2021, 2046, 1):\n",
    "    for field in [\"nnsqft\", \"ndu\"]:\n",
    "        upp.createHeatmap(yrbuilt, field = field, by = 'cum')\n",
    "        print(\"created Kernel density using the field {0} by {1}\".format(field, yrbuilt))"
   ]
  },
  {
   "cell_type": "code",
   "execution_count": null,
   "metadata": {},
   "outputs": [],
   "source": []
  },
  {
   "cell_type": "code",
   "execution_count": null,
   "metadata": {},
   "outputs": [],
   "source": []
  },
  {
   "cell_type": "code",
   "execution_count": null,
   "metadata": {},
   "outputs": [],
   "source": []
  },
  {
   "cell_type": "code",
   "execution_count": null,
   "metadata": {},
   "outputs": [],
   "source": []
  }
 ],
 "metadata": {
  "kernelspec": {
   "display_name": "Python 3",
   "language": "python",
   "name": "python3"
  },
  "language_info": {
   "codemirror_mode": {
    "name": "ipython",
    "version": 3
   },
   "file_extension": ".py",
   "mimetype": "text/x-python",
   "name": "python",
   "nbconvert_exporter": "python",
   "pygments_lexer": "ipython3",
   "version": "3.7.9"
  }
 },
 "nbformat": 4,
 "nbformat_minor": 4
}
