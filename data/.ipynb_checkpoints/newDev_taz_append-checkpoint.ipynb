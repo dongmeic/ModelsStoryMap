{
 "cells": [
  {
   "cell_type": "code",
   "execution_count": 3,
   "metadata": {},
   "outputs": [],
   "source": [
    "import os, arcpy, glob"
   ]
  },
  {
   "cell_type": "code",
   "execution_count": 2,
   "metadata": {},
   "outputs": [],
   "source": [
    "path = r'T:\\Trans Projects\\Model Development\\UrbanSim_LandUse\\Output\\Simulation_47_Final_RTP'"
   ]
  },
  {
   "cell_type": "code",
   "execution_count": 5,
   "metadata": {},
   "outputs": [],
   "source": [
    "shpPath = os.path.join(path, 'output', 'newDev_taz_' + '*.shp')"
   ]
  },
  {
   "cell_type": "code",
   "execution_count": 6,
   "metadata": {},
   "outputs": [],
   "source": [
    "filenames = glob.glob(shpPath)"
   ]
  },
  {
   "cell_type": "code",
   "execution_count": 12,
   "metadata": {},
   "outputs": [
    {
     "data": {
      "text/html": [
       "<h2>Output</h2>T:\\Trans Projects\\Model Development\\UrbanSim_LandUse\\Output\\Simulation_47_Final_RTP\\output\\newDev_taz_all.shp<h2>Messages</h2>Start Time: Saturday, March 27, 2021 11:43:18 AM<br/>Succeeded at Saturday, March 27, 2021 11:43:19 AM (Elapsed Time: 0.58 seconds)<br/><style>.rendered_html td, .rendered_html th {text-align: left;}.rendered_html tbody {border: 1px solid black;}</style>"
      ],
      "text/plain": [
       "<Result 'T:\\\\Trans Projects\\\\Model Development\\\\UrbanSim_LandUse\\\\Output\\\\Simulation_47_Final_RTP\\\\output\\\\newDev_taz_all.shp'>"
      ]
     },
     "execution_count": 12,
     "metadata": {},
     "output_type": "execute_result"
    }
   ],
   "source": [
    "arcpy.management.CopyFeatures(filenames[0], os.path.join(path, 'output', 'newDev_taz_all.shp'))"
   ]
  },
  {
   "cell_type": "code",
   "execution_count": 13,
   "metadata": {},
   "outputs": [
    {
     "data": {
      "text/html": [
       "<h2>Output</h2>T:\\Trans Projects\\Model Development\\UrbanSim_LandUse\\Output\\Simulation_47_Final_RTP\\output\\newDev_taz_all.shp<h2>Messages</h2>Start Time: Saturday, March 27, 2021 11:44:02 AM<br/>Succeeded at Saturday, March 27, 2021 11:44:06 AM (Elapsed Time: 3.74 seconds)<br/><style>.rendered_html td, .rendered_html th {text-align: left;}.rendered_html tbody {border: 1px solid black;}</style>"
      ],
      "text/plain": [
       "<Result 'T:\\\\Trans Projects\\\\Model Development\\\\UrbanSim_LandUse\\\\Output\\\\Simulation_47_Final_RTP\\\\output\\\\newDev_taz_all.shp'>"
      ]
     },
     "execution_count": 13,
     "metadata": {},
     "output_type": "execute_result"
    }
   ],
   "source": [
    "arcpy.management.Append(filenames[1:], os.path.join(path, 'output', 'newDev_taz_all.shp'))"
   ]
  }
 ],
 "metadata": {
  "kernelspec": {
   "display_name": "Python 3",
   "language": "python",
   "name": "python3"
  },
  "language_info": {
   "codemirror_mode": {
    "name": "ipython",
    "version": 3
   },
   "file_extension": ".py",
   "mimetype": "text/x-python",
   "name": "python",
   "nbconvert_exporter": "python",
   "pygments_lexer": "ipython3",
   "version": "3.7.9"
  }
 },
 "nbformat": 4,
 "nbformat_minor": 4
}
