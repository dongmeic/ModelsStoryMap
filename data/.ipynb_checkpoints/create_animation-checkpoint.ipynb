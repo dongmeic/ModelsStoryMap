{
 "cells": [
  {
   "cell_type": "code",
   "execution_count": 22,
   "id": "assumed-marathon",
   "metadata": {},
   "outputs": [],
   "source": [
    "import imageio, glob, os\n",
    "from PIL import Image"
   ]
  },
  {
   "cell_type": "code",
   "execution_count": 11,
   "id": "boxed-vocabulary",
   "metadata": {},
   "outputs": [],
   "source": [
    "path = r'T:\\Models\\StoryMap\\UrbanSim'"
   ]
  },
  {
   "cell_type": "code",
   "execution_count": 33,
   "id": "completed-gasoline",
   "metadata": {},
   "outputs": [],
   "source": [
    "def createAnimation(field = \"nsqft\", imagenm = \"heatmap_n\", streaming = False, duration = True, time = 600):\n",
    "    # filepaths\n",
    "    fp_in = os.path.join(path, imagenm + field + \"*.png\")\n",
    "    fp_out = os.path.join(path, imagenm + field + \".gif\")\n",
    "    filenames = glob.glob(fp_in)\n",
    "\n",
    "    if streaming:\n",
    "        with imageio.get_writer(fp_out, mode='I') as writer:\n",
    "            for filename in glob.glob(fp_in):\n",
    "                image = imageio.imread(filename)\n",
    "                writer.append_data(image)\n",
    "    else:\n",
    "        if duration:\n",
    "            # https://pillow.readthedocs.io/en/stable/handbook/image-file-formats.html#gif\n",
    "            img, *imgs = [Image.open(f) for f in sorted(glob.glob(fp_in))]\n",
    "            img.save(fp=fp_out, format='GIF', append_images=imgs,\n",
    "                     save_all=True, duration=time, loop=0)\n",
    "        else:\n",
    "            images = []\n",
    "            for filename in filenames:\n",
    "                images.append(imageio.imread(filename))\n",
    "            imageio.mimsave(fp_out, images)"
   ]
  },
  {
   "cell_type": "code",
   "execution_count": 34,
   "id": "forbidden-rouge",
   "metadata": {},
   "outputs": [],
   "source": [
    "createAnimation(field = \"du\", imagenm = \"new_\")"
   ]
  },
  {
   "cell_type": "code",
   "execution_count": 23,
   "id": "broken-column",
   "metadata": {},
   "outputs": [],
   "source": [
    "fields = [\"nsqft\", \"du\"]\n",
    "imagenms = [\"heatmap_n\"] #, \"new_\""
   ]
  },
  {
   "cell_type": "code",
   "execution_count": 37,
   "id": "remarkable-reliance",
   "metadata": {},
   "outputs": [],
   "source": [
    "for field in fields:\n",
    "    for imagenm in imagenms:\n",
    "        createAnimation(field = field, imagenm = imagenm, time = 1000)"
   ]
  },
  {
   "cell_type": "code",
   "execution_count": 30,
   "id": "sublime-threat",
   "metadata": {},
   "outputs": [
    {
     "data": {
      "text/plain": [
       "'heatmap_n'"
      ]
     },
     "execution_count": 30,
     "metadata": {},
     "output_type": "execute_result"
    }
   ],
   "source": [
    "imagenm = 'heatmap_n'"
   ]
  },
  {
   "cell_type": "code",
   "execution_count": 31,
   "id": "australian-campbell",
   "metadata": {},
   "outputs": [
    {
     "data": {
      "text/plain": [
       "'du'"
      ]
     },
     "execution_count": 31,
     "metadata": {},
     "output_type": "execute_result"
    }
   ],
   "source": [
    "field = 'du'"
   ]
  },
  {
   "cell_type": "code",
   "execution_count": 35,
   "id": "beginning-enzyme",
   "metadata": {},
   "outputs": [
    {
     "data": {
      "text/plain": [
       "3000.0"
      ]
     },
     "execution_count": 35,
     "metadata": {},
     "output_type": "execute_result"
    }
   ],
   "source": [
    "25*(600/5)"
   ]
  },
  {
   "cell_type": "code",
   "execution_count": null,
   "id": "recorded-conservative",
   "metadata": {},
   "outputs": [],
   "source": []
  }
 ],
 "metadata": {
  "kernelspec": {
   "display_name": "Python 3",
   "language": "python",
   "name": "python3"
  },
  "language_info": {
   "codemirror_mode": {
    "name": "ipython",
    "version": 3
   },
   "file_extension": ".py",
   "mimetype": "text/x-python",
   "name": "python",
   "nbconvert_exporter": "python",
   "pygments_lexer": "ipython3",
   "version": "3.8.8"
  }
 },
 "nbformat": 4,
 "nbformat_minor": 5
}
