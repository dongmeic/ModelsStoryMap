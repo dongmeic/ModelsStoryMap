{
 "cells": [
  {
   "cell_type": "code",
   "execution_count": 22,
   "metadata": {},
   "outputs": [],
   "source": [
    "import imageio, glob, os\n",
    "from PIL import Image"
   ]
  },
  {
   "cell_type": "code",
   "execution_count": 11,
   "metadata": {},
   "outputs": [],
   "source": [
    "path = r'T:\\Models\\StoryMap\\UrbanSim'"
   ]
  },
  {
   "cell_type": "code",
   "execution_count": 33,
   "metadata": {},
   "outputs": [],
   "source": [
    "def createAnimation(field = \"nsqft\", imagenm = \"heatmap_n\", streaming = False, duration = True, time = 600):\n",
    "    # filepaths\n",
    "    fp_in = os.path.join(path, imagenm + field + \"*.png\")\n",
    "    fp_out = os.path.join(path, imagenm + field + \".gif\")\n",
    "    filenames = glob.glob(fp_in)\n",
    "\n",
    "    if streaming:\n",
    "        with imageio.get_writer(fp_out, mode='I') as writer:\n",
    "            for filename in glob.glob(fp_in):\n",
    "                image = imageio.imread(filename)\n",
    "                writer.append_data(image)\n",
    "    else:\n",
    "        if duration:\n",
    "            # https://pillow.readthedocs.io/en/stable/handbook/image-file-formats.html#gif\n",
    "            img, *imgs = [Image.open(f) for f in sorted(glob.glob(fp_in))]\n",
    "            img.save(fp=fp_out, format='GIF', append_images=imgs,\n",
    "                     save_all=True, duration=time, loop=0)\n",
    "        else:\n",
    "            images = []\n",
    "            for filename in filenames:\n",
    "                images.append(imageio.imread(filename))\n",
    "            imageio.mimsave(fp_out, images)"
   ]
  },
  {
   "cell_type": "code",
   "execution_count": 34,
   "metadata": {},
   "outputs": [],
   "source": [
    "createAnimation(field = \"du\", imagenm = \"new_\")"
   ]
  },
  {
   "cell_type": "code",
   "execution_count": 38,
   "metadata": {},
   "outputs": [],
   "source": [
    "fields = [\"nsqft\", \"du\"]\n",
    "imagenms = [\"new_\"] #\"heatmap_n\","
   ]
  },
  {
   "cell_type": "code",
   "execution_count": 41,
   "metadata": {},
   "outputs": [],
   "source": [
    "for field in fields:\n",
    "    for imagenm in imagenms:\n",
    "        createAnimation(field = field, imagenm = imagenm, time = 2000)"
   ]
  },
  {
   "cell_type": "code",
   "execution_count": null,
   "metadata": {},
   "outputs": [],
   "source": []
  }
 ],
 "metadata": {
  "kernelspec": {
   "display_name": "Python 3",
   "language": "python",
   "name": "python3"
  },
  "language_info": {
   "codemirror_mode": {
    "name": "ipython",
    "version": 3
   },
   "file_extension": ".py",
   "mimetype": "text/x-python",
   "name": "python",
   "nbconvert_exporter": "python",
   "pygments_lexer": "ipython3",
   "version": "3.7.9"
  }
 },
 "nbformat": 4,
 "nbformat_minor": 5
}
