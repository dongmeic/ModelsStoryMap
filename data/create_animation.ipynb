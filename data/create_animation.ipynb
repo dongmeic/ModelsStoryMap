{
 "cells": [
  {
   "cell_type": "code",
   "execution_count": 1,
   "id": "increasing-flower",
   "metadata": {},
   "outputs": [],
   "source": [
    "import imageio, glob, os\n",
    "from PIL import Image"
   ]
  },
  {
   "cell_type": "code",
   "execution_count": 2,
   "id": "verbal-oklahoma",
   "metadata": {},
   "outputs": [],
   "source": [
    "path = r'T:\\Models\\StoryMap\\UrbanSim'"
   ]
  },
  {
   "cell_type": "code",
   "execution_count": 3,
   "id": "french-consortium",
   "metadata": {},
   "outputs": [],
   "source": [
    "def createAnimation(field = \"jobs\", imagenm = \"heatmap_\", streaming = False, duration = True, time = 600):\n",
    "    # filepaths\n",
    "    fp_in = os.path.join(path, imagenm + field + \"*.png\")\n",
    "    fp_out = os.path.join(path, imagenm + field + \".gif\")\n",
    "    filenames = glob.glob(fp_in)\n",
    "\n",
    "    if streaming:\n",
    "        with imageio.get_writer(fp_out, mode='I') as writer:\n",
    "            for filename in glob.glob(fp_in):\n",
    "                image = imageio.imread(filename)\n",
    "                writer.append_data(image)\n",
    "    else:\n",
    "        if duration:\n",
    "            # https://pillow.readthedocs.io/en/stable/handbook/image-file-formats.html#gif\n",
    "            img, *imgs = [Image.open(f) for f in sorted(glob.glob(fp_in))]\n",
    "            img.save(fp=fp_out, format='GIF', append_images=imgs,\n",
    "                     save_all=True, duration=time, loop=0)\n",
    "        else:\n",
    "            images = []\n",
    "            for filename in filenames:\n",
    "                images.append(imageio.imread(filename))\n",
    "            imageio.mimsave(fp_out, images)"
   ]
  },
  {
   "cell_type": "code",
   "execution_count": 4,
   "id": "adult-sperm",
   "metadata": {},
   "outputs": [],
   "source": [
    "createAnimation()"
   ]
  },
  {
   "cell_type": "code",
   "execution_count": 5,
   "id": "dimensional-capital",
   "metadata": {},
   "outputs": [],
   "source": [
    "fields = [\"hh\", \"jobs\"]\n",
    "imagenms = [\"heatmap_\"] "
   ]
  },
  {
   "cell_type": "code",
   "execution_count": 14,
   "id": "civil-amazon",
   "metadata": {},
   "outputs": [],
   "source": [
    "for field in fields:\n",
    "    for imagenm in imagenms:\n",
    "        #createAnimation(field = field, imagenm = imagenm, streaming = True)\n",
    "        createAnimation(field = field, imagenm = imagenm)"
   ]
  },
  {
   "cell_type": "code",
   "execution_count": null,
   "id": "suspected-cigarette",
   "metadata": {},
   "outputs": [],
   "source": []
  }
 ],
 "metadata": {
  "kernelspec": {
   "display_name": "Python 3",
   "language": "python",
   "name": "python3"
  },
  "language_info": {
   "codemirror_mode": {
    "name": "ipython",
    "version": 3
   },
   "file_extension": ".py",
   "mimetype": "text/x-python",
   "name": "python",
   "nbconvert_exporter": "python",
   "pygments_lexer": "ipython3",
   "version": "3.8.8"
  }
 },
 "nbformat": 4,
 "nbformat_minor": 5
}
