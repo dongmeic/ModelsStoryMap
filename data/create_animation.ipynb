{
 "cells": [
  {
   "cell_type": "code",
   "execution_count": 22,
   "id": "rough-individual",
   "metadata": {},
   "outputs": [],
   "source": [
    "import imageio, glob, os"
   ]
  },
  {
   "cell_type": "code",
   "execution_count": 11,
   "id": "copyrighted-ecology",
   "metadata": {},
   "outputs": [],
   "source": [
    "path = r'T:\\Models\\StoryMap\\UrbanSim'"
   ]
  },
  {
   "cell_type": "code",
   "execution_count": 20,
   "id": "favorite-validation",
   "metadata": {},
   "outputs": [],
   "source": [
    "def createAnimation(field = \"nsqft\", imagenm = \"heatmap_n\"):\n",
    "    filenames = glob.glob(os.path.join(path, imagenm + field + \"*.png\"))\n",
    "    images = []\n",
    "    for filename in filenames:\n",
    "        images.append(imageio.imread(filename))\n",
    "    imageio.mimsave(os.path.join(path, imagenm + field + \".gif\"), images)"
   ]
  },
  {
   "cell_type": "code",
   "execution_count": 18,
   "id": "manual-howard",
   "metadata": {},
   "outputs": [],
   "source": [
    "createAnimation(field = \"du\")"
   ]
  },
  {
   "cell_type": "code",
   "execution_count": 19,
   "id": "employed-tunisia",
   "metadata": {},
   "outputs": [],
   "source": [
    "fields = [\"nsqft\", \"du\"]\n",
    "imagenms = [\"heatmap_n\", \"new_\"]"
   ]
  },
  {
   "cell_type": "code",
   "execution_count": 21,
   "id": "adolescent-collectible",
   "metadata": {},
   "outputs": [],
   "source": [
    "for field in fields:\n",
    "    for imagenm in imagenms:\n",
    "        createAnimation(field = field, imagenm = imagenm)"
   ]
  },
  {
   "cell_type": "code",
   "execution_count": null,
   "id": "applied-accountability",
   "metadata": {},
   "outputs": [],
   "source": []
  }
 ],
 "metadata": {
  "kernelspec": {
   "display_name": "Python 3",
   "language": "python",
   "name": "python3"
  },
  "language_info": {
   "codemirror_mode": {
    "name": "ipython",
    "version": 3
   },
   "file_extension": ".py",
   "mimetype": "text/x-python",
   "name": "python",
   "nbconvert_exporter": "python",
   "pygments_lexer": "ipython3",
   "version": "3.8.8"
  }
 },
 "nbformat": 4,
 "nbformat_minor": 5
}
